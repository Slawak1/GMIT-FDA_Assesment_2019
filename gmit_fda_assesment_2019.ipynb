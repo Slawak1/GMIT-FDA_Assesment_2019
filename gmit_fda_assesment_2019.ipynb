{
 "cells": [
  {
   "cell_type": "markdown",
   "metadata": {
    "collapsed": true
   },
   "source": [
    "# Tips Data Set - Project 2019\n",
    "### Programing and Scripting\n",
    "### GMIT Galway\n",
    "#### Slawomir Sowa \n",
    "#### 04/10/2019"
   ]
  },
  {
   "cell_type": "markdown",
   "metadata": {},
   "source": [
    "## Objectives\n",
    "\n",
    "* Create a git repository\n",
    "* discusses and analyses whether there is a relationship between the total bill and tip amount,\n",
    "* analyse the relationship between the variables within the dataset.\n",
    "\n",
    "Full description of Assignment can be found <a href=\"https://github.com/Slawak1/GMIT-FDA_Assesment_2019/blob/master/project.pdf\">here</a>"
   ]
  },
  {
   "cell_type": "markdown",
   "metadata": {},
   "source": [
    "### Tools\n",
    "To analyse Iris Data Set I work with Python 3.7 and Jupyter Notebook.\n",
    "\n",
    "<img width='400px' align='left' src='https://www.python.org/static/community_logos/python-logo-master-v3-TM.png'>\n",
    "\n",
    "<img width='150px' align='left' src='https://jupyter.org/assets/main-logo.svg'>\n",
    "\n"
   ]
  },
  {
   "cell_type": "markdown",
   "metadata": {},
   "source": [
    "#### Used Libraries and tools\n",
    "#### Pandas\n",
    "Pandas is a Python package providing fast, flexible, and expressive data structures designed to make working with “relational” or “labeled” data both easy and intuitive. The two primary data structures of pandas, Series (1-dimensional) and DataFrame (2-dimensional), handle the vast majority of typical use cases in finance, statistics, social science, and many areas of engineering. http://pandas.pydata.org\n",
    "\n",
    "#### NumPy\n",
    "NumPy is the fundamental package for scientific computing with Python. It contains among other things: a powerful N-dimensional array object, sophisticated (broadcasting) functions, useful linear algebra, Fourier transform, and random number capabilities, Besides its obvious scientific uses, NumPy can also be used as an efficient multi-dimensional container of generic data. Arbitrary data-types can be defined. This allows NumPy to seamlessly and speedily integrate with a wide variety of databases. https://www.numpy.org/\n",
    "\n",
    "#### Matplotlib\n",
    "Matplotlib is a Python 2D plotting library which produces publication quality figures in a variety of hardcopy formats and interactive environments across platforms. Matplotlib tries to make easy things easy and hard things possible. You can generate plots, histograms, power spectra, bar charts, errorcharts, scatterplots, etc., with just a few lines of code. For examples, see the sample plots and thumbnail gallery. https://matplotlib.org/index.html\n",
    "\n",
    "#### Seaborn\n",
    "Seaborn is a library for making statistical graphics in Python. It is built on top of matplotlib and closely integrated with pandas data structures. https://seaborn.pydata.org/\n",
    "\n",
    "#### Jupyter Notebook\n",
    "The Jupyter Notebook is an open-source web application that allows to create and share documents that contain live code, equations, visualizations and narrative text. Uses include: data cleaning and transformation, numerical simulation, statistical modeling, data visualization, machine learning, and much more. https://jupyter.org/index.html"
   ]
  },
  {
   "cell_type": "markdown",
   "metadata": {},
   "source": [
    " ## 1. Setting the research goal"
   ]
  },
  {
   "cell_type": "markdown",
   "metadata": {},
   "source": [
    "The main goal of the project is to analyze the relationship between the bill and the tip and check if such a relationship exists. The secondary goal is to analyze the other variables in the data set. such as customer sex, day of the week, or time of day. "
   ]
  },
  {
   "cell_type": "markdown",
   "metadata": {},
   "source": [
    "## 2. Retrieve data"
   ]
  },
  {
   "cell_type": "markdown",
   "metadata": {},
   "source": [
    "In this step we collect data, ensure that we can use the data in our program, which means checking the existence of, quality, and access to data.\n",
    "\n",
    "Our data are stored in csv file and we can fined dataset here: [tips dataset](https://github.com/Slawak1/GMIT-FDA_Assesment_2019/blob/master/tips.csv)"
   ]
  },
  {
   "cell_type": "markdown",
   "metadata": {},
   "source": [
    "To work with data we need to import all necessery tools as pandas and numpy for data manipulation, matplotlib and seaborn for data visualisation. "
   ]
  },
  {
   "cell_type": "code",
   "execution_count": 1,
   "metadata": {},
   "outputs": [],
   "source": [
    "import pandas as pd\n",
    "import matplotlib.pyplot as plt\n",
    "import numpy as np\n",
    "import seaborn as sns \n",
    "from statsmodels.graphics.gofplots import qqplot\n",
    "from sklearn.linear_model import LinearRegression"
   ]
  },
  {
   "cell_type": "markdown",
   "metadata": {},
   "source": [
    "To read data from Tips.csv file I used pandas library and read_csv function. Variable df is my data frame. "
   ]
  },
  {
   "cell_type": "code",
   "execution_count": 2,
   "metadata": {},
   "outputs": [
    {
     "name": "stdout",
     "output_type": "stream",
     "text": [
      "(244, 7)\n"
     ]
    }
   ],
   "source": [
    "df = pd.read_csv('tips.csv') \n",
    "print(df.shape)"
   ]
  },
  {
   "cell_type": "markdown",
   "metadata": {},
   "source": [
    "Pandas <code>shape() </code> function returns tuple representing the dimensionality of the DataFrame. Our dataset contains 244 rows and 7 columns."
   ]
  },
  {
   "cell_type": "markdown",
   "metadata": {},
   "source": [
    "To display names of the columns we can use <code>columns</code> atribute."
   ]
  },
  {
   "cell_type": "code",
   "execution_count": 3,
   "metadata": {},
   "outputs": [
    {
     "data": {
      "text/plain": [
       "Index(['total_bill', 'tip', 'sex', 'smoker', 'day', 'time', 'size'], dtype='object')"
      ]
     },
     "execution_count": 3,
     "metadata": {},
     "output_type": "execute_result"
    }
   ],
   "source": [
    "df.columns"
   ]
  },
  {
   "cell_type": "markdown",
   "metadata": {},
   "source": [
    "We can change column name by passing new name to dictionary "
   ]
  },
  {
   "cell_type": "code",
   "execution_count": 4,
   "metadata": {},
   "outputs": [],
   "source": [
    "df = df.rename(columns = {\"day\":\"week day\", \"size\":\"table size\"})"
   ]
  },
  {
   "cell_type": "markdown",
   "metadata": {},
   "source": [
    "<code>df.head() </code>function returns first 5 rows from data freame. It is useful for quickly testing if your object has the right type of data in it."
   ]
  },
  {
   "cell_type": "code",
   "execution_count": 5,
   "metadata": {},
   "outputs": [
    {
     "data": {
      "text/html": [
       "<div>\n",
       "<style scoped>\n",
       "    .dataframe tbody tr th:only-of-type {\n",
       "        vertical-align: middle;\n",
       "    }\n",
       "\n",
       "    .dataframe tbody tr th {\n",
       "        vertical-align: top;\n",
       "    }\n",
       "\n",
       "    .dataframe thead th {\n",
       "        text-align: right;\n",
       "    }\n",
       "</style>\n",
       "<table border=\"1\" class=\"dataframe\">\n",
       "  <thead>\n",
       "    <tr style=\"text-align: right;\">\n",
       "      <th></th>\n",
       "      <th>total_bill</th>\n",
       "      <th>tip</th>\n",
       "      <th>sex</th>\n",
       "      <th>smoker</th>\n",
       "      <th>week day</th>\n",
       "      <th>time</th>\n",
       "      <th>table size</th>\n",
       "    </tr>\n",
       "  </thead>\n",
       "  <tbody>\n",
       "    <tr>\n",
       "      <th>0</th>\n",
       "      <td>16.99</td>\n",
       "      <td>1.01</td>\n",
       "      <td>Female</td>\n",
       "      <td>No</td>\n",
       "      <td>Sun</td>\n",
       "      <td>Dinner</td>\n",
       "      <td>2</td>\n",
       "    </tr>\n",
       "    <tr>\n",
       "      <th>1</th>\n",
       "      <td>10.34</td>\n",
       "      <td>1.66</td>\n",
       "      <td>Male</td>\n",
       "      <td>No</td>\n",
       "      <td>Sun</td>\n",
       "      <td>Dinner</td>\n",
       "      <td>3</td>\n",
       "    </tr>\n",
       "    <tr>\n",
       "      <th>2</th>\n",
       "      <td>21.01</td>\n",
       "      <td>3.50</td>\n",
       "      <td>Male</td>\n",
       "      <td>No</td>\n",
       "      <td>Sun</td>\n",
       "      <td>Dinner</td>\n",
       "      <td>3</td>\n",
       "    </tr>\n",
       "    <tr>\n",
       "      <th>3</th>\n",
       "      <td>23.68</td>\n",
       "      <td>3.31</td>\n",
       "      <td>Male</td>\n",
       "      <td>No</td>\n",
       "      <td>Sun</td>\n",
       "      <td>Dinner</td>\n",
       "      <td>2</td>\n",
       "    </tr>\n",
       "    <tr>\n",
       "      <th>4</th>\n",
       "      <td>24.59</td>\n",
       "      <td>3.61</td>\n",
       "      <td>Female</td>\n",
       "      <td>No</td>\n",
       "      <td>Sun</td>\n",
       "      <td>Dinner</td>\n",
       "      <td>4</td>\n",
       "    </tr>\n",
       "  </tbody>\n",
       "</table>\n",
       "</div>"
      ],
      "text/plain": [
       "   total_bill   tip     sex smoker week day    time  table size\n",
       "0       16.99  1.01  Female     No      Sun  Dinner           2\n",
       "1       10.34  1.66    Male     No      Sun  Dinner           3\n",
       "2       21.01  3.50    Male     No      Sun  Dinner           3\n",
       "3       23.68  3.31    Male     No      Sun  Dinner           2\n",
       "4       24.59  3.61  Female     No      Sun  Dinner           4"
      ]
     },
     "execution_count": 5,
     "metadata": {},
     "output_type": "execute_result"
    }
   ],
   "source": [
    "df.head(5)"
   ]
  },
  {
   "cell_type": "markdown",
   "metadata": {},
   "source": [
    "<code>df.tail()</code> returns last 5 rows from data frame. We can use it for veryfying data."
   ]
  },
  {
   "cell_type": "code",
   "execution_count": 6,
   "metadata": {},
   "outputs": [
    {
     "data": {
      "text/html": [
       "<div>\n",
       "<style scoped>\n",
       "    .dataframe tbody tr th:only-of-type {\n",
       "        vertical-align: middle;\n",
       "    }\n",
       "\n",
       "    .dataframe tbody tr th {\n",
       "        vertical-align: top;\n",
       "    }\n",
       "\n",
       "    .dataframe thead th {\n",
       "        text-align: right;\n",
       "    }\n",
       "</style>\n",
       "<table border=\"1\" class=\"dataframe\">\n",
       "  <thead>\n",
       "    <tr style=\"text-align: right;\">\n",
       "      <th></th>\n",
       "      <th>total_bill</th>\n",
       "      <th>tip</th>\n",
       "      <th>sex</th>\n",
       "      <th>smoker</th>\n",
       "      <th>week day</th>\n",
       "      <th>time</th>\n",
       "      <th>table size</th>\n",
       "    </tr>\n",
       "  </thead>\n",
       "  <tbody>\n",
       "    <tr>\n",
       "      <th>239</th>\n",
       "      <td>29.03</td>\n",
       "      <td>5.92</td>\n",
       "      <td>Male</td>\n",
       "      <td>No</td>\n",
       "      <td>Sat</td>\n",
       "      <td>Dinner</td>\n",
       "      <td>3</td>\n",
       "    </tr>\n",
       "    <tr>\n",
       "      <th>240</th>\n",
       "      <td>27.18</td>\n",
       "      <td>2.00</td>\n",
       "      <td>Female</td>\n",
       "      <td>Yes</td>\n",
       "      <td>Sat</td>\n",
       "      <td>Dinner</td>\n",
       "      <td>2</td>\n",
       "    </tr>\n",
       "    <tr>\n",
       "      <th>241</th>\n",
       "      <td>22.67</td>\n",
       "      <td>2.00</td>\n",
       "      <td>Male</td>\n",
       "      <td>Yes</td>\n",
       "      <td>Sat</td>\n",
       "      <td>Dinner</td>\n",
       "      <td>2</td>\n",
       "    </tr>\n",
       "    <tr>\n",
       "      <th>242</th>\n",
       "      <td>17.82</td>\n",
       "      <td>1.75</td>\n",
       "      <td>Male</td>\n",
       "      <td>No</td>\n",
       "      <td>Sat</td>\n",
       "      <td>Dinner</td>\n",
       "      <td>2</td>\n",
       "    </tr>\n",
       "    <tr>\n",
       "      <th>243</th>\n",
       "      <td>18.78</td>\n",
       "      <td>3.00</td>\n",
       "      <td>Female</td>\n",
       "      <td>No</td>\n",
       "      <td>Thur</td>\n",
       "      <td>Dinner</td>\n",
       "      <td>2</td>\n",
       "    </tr>\n",
       "  </tbody>\n",
       "</table>\n",
       "</div>"
      ],
      "text/plain": [
       "     total_bill   tip     sex smoker week day    time  table size\n",
       "239       29.03  5.92    Male     No      Sat  Dinner           3\n",
       "240       27.18  2.00  Female    Yes      Sat  Dinner           2\n",
       "241       22.67  2.00    Male    Yes      Sat  Dinner           2\n",
       "242       17.82  1.75    Male     No      Sat  Dinner           2\n",
       "243       18.78  3.00  Female     No     Thur  Dinner           2"
      ]
     },
     "execution_count": 6,
     "metadata": {},
     "output_type": "execute_result"
    }
   ],
   "source": [
    "df.tail(5)"
   ]
  },
  {
   "cell_type": "markdown",
   "metadata": {},
   "source": [
    "## 3. Data Preparation"
   ]
  },
  {
   "cell_type": "markdown",
   "metadata": {},
   "source": [
    "This phase consist of three subphases:<br> <i> data cleansing </i> removes false values from a data source and inconsistencies acreoo data source, <br> <i> data integration</i> enrich data source by combining information from multiple data source and <br><i> data transformation</i> ensures that the data is in a suitable format for use."
   ]
  },
  {
   "cell_type": "markdown",
   "metadata": {},
   "source": [
    "To check is any data missing in Tips data set I used <code>isnull()</code> function from pandas library. Function returns boolean value <code>True</code> if null value exists and <code>False</code> if not null value founded. Pandas will recognise empty cell or <code>NA</code> as missing values.\n"
   ]
  },
  {
   "cell_type": "code",
   "execution_count": 7,
   "metadata": {},
   "outputs": [
    {
     "data": {
      "text/plain": [
       "total_bill    False\n",
       "tip           False\n",
       "sex           False\n",
       "smoker        False\n",
       "week day      False\n",
       "time          False\n",
       "table size    False\n",
       "dtype: bool"
      ]
     },
     "execution_count": 7,
     "metadata": {},
     "output_type": "execute_result"
    }
   ],
   "source": [
    "df.isnull().any()\n"
   ]
  },
  {
   "cell_type": "markdown",
   "metadata": {},
   "source": [
    "The above code shows us that there is no <code>null</code> values in our data frame."
   ]
  },
  {
   "cell_type": "markdown",
   "metadata": {},
   "source": [
    "But sometimes it might be the case where there’s missing values that have different formats than empty cell or N/A.\n",
    "For example it can be '--', 'na' or 'n/a'. <br>\n",
    "To find that kind of missing values we can use python code and iterate over a list of missing values.  "
   ]
  },
  {
   "cell_type": "code",
   "execution_count": 8,
   "metadata": {},
   "outputs": [
    {
     "name": "stdout",
     "output_type": "stream",
     "text": [
      "No missing values detected\n",
      "No missing values detected\n",
      "No missing values detected\n",
      "No missing values detected\n"
     ]
    }
   ],
   "source": [
    "# create a list of missing values\n",
    "missing = ['--','-','na','n/a'] \n",
    "\n",
    "# test if values exist in our data frame\n",
    "for i in missing:\n",
    "    if i in df.values:\n",
    "        print ('Missing values exist')\n",
    "    else:\n",
    "        print ('No missing values detected')"
   ]
  },
  {
   "cell_type": "code",
   "execution_count": null,
   "metadata": {},
   "outputs": [],
   "source": []
  },
  {
   "cell_type": "markdown",
   "metadata": {},
   "source": []
  },
  {
   "cell_type": "markdown",
   "metadata": {},
   "source": [
    "## 4. Data Exploration"
   ]
  },
  {
   "cell_type": "markdown",
   "metadata": {},
   "source": [
    "In this chapter we will try to understand how variables interact with each other, the distribution of the\n",
    "data, and whether there are outliers."
   ]
  },
  {
   "cell_type": "code",
   "execution_count": 9,
   "metadata": {},
   "outputs": [
    {
     "data": {
      "text/html": [
       "<div>\n",
       "<style scoped>\n",
       "    .dataframe tbody tr th:only-of-type {\n",
       "        vertical-align: middle;\n",
       "    }\n",
       "\n",
       "    .dataframe tbody tr th {\n",
       "        vertical-align: top;\n",
       "    }\n",
       "\n",
       "    .dataframe thead th {\n",
       "        text-align: right;\n",
       "    }\n",
       "</style>\n",
       "<table border=\"1\" class=\"dataframe\">\n",
       "  <thead>\n",
       "    <tr style=\"text-align: right;\">\n",
       "      <th></th>\n",
       "      <th>total_bill</th>\n",
       "      <th>tip</th>\n",
       "      <th>table size</th>\n",
       "    </tr>\n",
       "  </thead>\n",
       "  <tbody>\n",
       "    <tr>\n",
       "      <th>count</th>\n",
       "      <td>244.000000</td>\n",
       "      <td>244.000000</td>\n",
       "      <td>244.000000</td>\n",
       "    </tr>\n",
       "    <tr>\n",
       "      <th>mean</th>\n",
       "      <td>19.785943</td>\n",
       "      <td>2.998279</td>\n",
       "      <td>2.569672</td>\n",
       "    </tr>\n",
       "    <tr>\n",
       "      <th>std</th>\n",
       "      <td>8.902412</td>\n",
       "      <td>1.383638</td>\n",
       "      <td>0.951100</td>\n",
       "    </tr>\n",
       "    <tr>\n",
       "      <th>min</th>\n",
       "      <td>3.070000</td>\n",
       "      <td>1.000000</td>\n",
       "      <td>1.000000</td>\n",
       "    </tr>\n",
       "    <tr>\n",
       "      <th>25%</th>\n",
       "      <td>13.347500</td>\n",
       "      <td>2.000000</td>\n",
       "      <td>2.000000</td>\n",
       "    </tr>\n",
       "    <tr>\n",
       "      <th>50%</th>\n",
       "      <td>17.795000</td>\n",
       "      <td>2.900000</td>\n",
       "      <td>2.000000</td>\n",
       "    </tr>\n",
       "    <tr>\n",
       "      <th>75%</th>\n",
       "      <td>24.127500</td>\n",
       "      <td>3.562500</td>\n",
       "      <td>3.000000</td>\n",
       "    </tr>\n",
       "    <tr>\n",
       "      <th>max</th>\n",
       "      <td>50.810000</td>\n",
       "      <td>10.000000</td>\n",
       "      <td>6.000000</td>\n",
       "    </tr>\n",
       "  </tbody>\n",
       "</table>\n",
       "</div>"
      ],
      "text/plain": [
       "       total_bill         tip  table size\n",
       "count  244.000000  244.000000  244.000000\n",
       "mean    19.785943    2.998279    2.569672\n",
       "std      8.902412    1.383638    0.951100\n",
       "min      3.070000    1.000000    1.000000\n",
       "25%     13.347500    2.000000    2.000000\n",
       "50%     17.795000    2.900000    2.000000\n",
       "75%     24.127500    3.562500    3.000000\n",
       "max     50.810000   10.000000    6.000000"
      ]
     },
     "execution_count": 9,
     "metadata": {},
     "output_type": "execute_result"
    }
   ],
   "source": [
    "df.describe()"
   ]
  },
  {
   "cell_type": "markdown",
   "metadata": {},
   "source": [
    "Scatter plot shows relation between total bill and tip"
   ]
  },
  {
   "cell_type": "code",
   "execution_count": 10,
   "metadata": {},
   "outputs": [
    {
     "data": {
      "image/png": "[encoded data removed]",
      "text/plain": [
       "<Figure size 720x720 with 1 Axes>"
      ]
     },
     "metadata": {
      "needs_background": "light"
     },
     "output_type": "display_data"
    }
   ],
   "source": [
    "plt.figure(figsize=(10, 10))\n",
    "ax = sns.distplot(df['total_bill'])"
   ]
  },
  {
   "cell_type": "code",
   "execution_count": 11,
   "metadata": {},
   "outputs": [
    {
     "data": {
      "image/png": "[encoded data removed]",
      "text/plain": [
       "<Figure size 720x720 with 1 Axes>"
      ]
     },
     "metadata": {
      "needs_background": "light"
     },
     "output_type": "display_data"
    }
   ],
   "source": [
    "plt.figure(figsize=(10, 10))\n",
    "ax = sns.scatterplot(x=\"total_bill\", y=\"tip\", data=df )"
   ]
  },
  {
   "cell_type": "markdown",
   "metadata": {},
   "source": []
  },
  {
   "cell_type": "markdown",
   "metadata": {},
   "source": [
    "### Linear Regression "
   ]
  },
  {
   "cell_type": "markdown",
   "metadata": {},
   "source": [
    "https://realpython.com/linear-regression-in-python/"
   ]
  },
  {
   "cell_type": "code",
   "execution_count": 21,
   "metadata": {},
   "outputs": [
    {
     "data": {
      "text/plain": [
       "(244, 1)"
      ]
     },
     "execution_count": 21,
     "metadata": {},
     "output_type": "execute_result"
    }
   ],
   "source": [
    "# Tranfer df column to 2D array\n",
    "z = df['total_bill']\n",
    "\n",
    "x = z.values.reshape(-1,1)\n",
    "x.shape\n"
   ]
  },
  {
   "cell_type": "code",
   "execution_count": 22,
   "metadata": {},
   "outputs": [
    {
     "data": {
      "text/plain": [
       "(244,)"
      ]
     },
     "execution_count": 22,
     "metadata": {},
     "output_type": "execute_result"
    }
   ],
   "source": [
    "y = df['tip']\n",
    "y.shape"
   ]
  },
  {
   "cell_type": "code",
   "execution_count": 37,
   "metadata": {},
   "outputs": [],
   "source": [
    "model = LinearRegression()\n",
    "results = model.fit(x, y)"
   ]
  },
  {
   "cell_type": "code",
   "execution_count": 35,
   "metadata": {},
   "outputs": [
    {
     "name": "stdout",
     "output_type": "stream",
     "text": [
      "R square is equal: 0.45661658635167657\n",
      "intercept: 0.9202696135546735\n",
      "slope: [0.10502452]\n"
     ]
    }
   ],
   "source": [
    "# R^2\n",
    "R_sqr = model.score(x, y)\n",
    "print (f'R square is equal: {R_sqr}')\n",
    "print('intercept:', model.intercept_) # The intercept indicates the location where it cross an y axis\n",
    "print('slope:', model.coef_) # The slope indicates the steepness of a line"
   ]
  },
  {
   "cell_type": "code",
   "execution_count": 41,
   "metadata": {},
   "outputs": [
    {
     "data": {
      "text/html": [
       "<table class=\"simpletable\">\n",
       "<caption>OLS Regression Results</caption>\n",
       "<tr>\n",
       "  <th>Dep. Variable:</th>            <td>y</td>        <th>  R-squared (uncentered):</th>      <td>   0.892</td> \n",
       "</tr>\n",
       "<tr>\n",
       "  <th>Model:</th>                   <td>OLS</td>       <th>  Adj. R-squared (uncentered):</th> <td>   0.891</td> \n",
       "</tr>\n",
       "<tr>\n",
       "  <th>Method:</th>             <td>Least Squares</td>  <th>  F-statistic:       </th>          <td>   2004.</td> \n",
       "</tr>\n",
       "<tr>\n",
       "  <th>Date:</th>             <td>Tue, 26 Nov 2019</td> <th>  Prob (F-statistic):</th>          <td>2.26e-119</td>\n",
       "</tr>\n",
       "<tr>\n",
       "  <th>Time:</th>                 <td>09:53:41</td>     <th>  Log-Likelihood:    </th>          <td> -825.57</td> \n",
       "</tr>\n",
       "<tr>\n",
       "  <th>No. Observations:</th>      <td>   244</td>      <th>  AIC:               </th>          <td>   1653.</td> \n",
       "</tr>\n",
       "<tr>\n",
       "  <th>Df Residuals:</th>          <td>   243</td>      <th>  BIC:               </th>          <td>   1657.</td> \n",
       "</tr>\n",
       "<tr>\n",
       "  <th>Df Model:</th>              <td>     1</td>      <th>                     </th>              <td> </td>    \n",
       "</tr>\n",
       "<tr>\n",
       "  <th>Covariance Type:</th>      <td>nonrobust</td>    <th>                     </th>              <td> </td>    \n",
       "</tr>\n",
       "</table>\n",
       "<table class=\"simpletable\">\n",
       "<tr>\n",
       "   <td></td>      <th>coef</th>     <th>std err</th>      <th>t</th>      <th>P>|t|</th>  <th>[0.025</th>    <th>0.975]</th>  \n",
       "</tr>\n",
       "<tr>\n",
       "  <th>tip</th> <td>    6.2052</td> <td>    0.139</td> <td>   44.771</td> <td> 0.000</td> <td>    5.932</td> <td>    6.478</td>\n",
       "</tr>\n",
       "</table>\n",
       "<table class=\"simpletable\">\n",
       "<tr>\n",
       "  <th>Omnibus:</th>       <td>33.937</td> <th>  Durbin-Watson:     </th> <td>   2.112</td>\n",
       "</tr>\n",
       "<tr>\n",
       "  <th>Prob(Omnibus):</th> <td> 0.000</td> <th>  Jarque-Bera (JB):  </th> <td>  71.569</td>\n",
       "</tr>\n",
       "<tr>\n",
       "  <th>Skew:</th>          <td> 0.688</td> <th>  Prob(JB):          </th> <td>2.88e-16</td>\n",
       "</tr>\n",
       "<tr>\n",
       "  <th>Kurtosis:</th>      <td> 5.269</td> <th>  Cond. No.          </th> <td>    1.00</td>\n",
       "</tr>\n",
       "</table><br/><br/>Warnings:<br/>[1] Standard Errors assume that the covariance matrix of the errors is correctly specified."
      ],
      "text/plain": [
       "<class 'statsmodels.iolib.summary.Summary'>\n",
       "\"\"\"\n",
       "                                 OLS Regression Results                                \n",
       "=======================================================================================\n",
       "Dep. Variable:                      y   R-squared (uncentered):                   0.892\n",
       "Model:                            OLS   Adj. R-squared (uncentered):              0.891\n",
       "Method:                 Least Squares   F-statistic:                              2004.\n",
       "Date:                Tue, 26 Nov 2019   Prob (F-statistic):                   2.26e-119\n",
       "Time:                        09:53:41   Log-Likelihood:                         -825.57\n",
       "No. Observations:                 244   AIC:                                      1653.\n",
       "Df Residuals:                     243   BIC:                                      1657.\n",
       "Df Model:                           1                                                  \n",
       "Covariance Type:            nonrobust                                                  \n",
       "==============================================================================\n",
       "                 coef    std err          t      P>|t|      [0.025      0.975]\n",
       "------------------------------------------------------------------------------\n",
       "tip            6.2052      0.139     44.771      0.000       5.932       6.478\n",
       "==============================================================================\n",
       "Omnibus:                       33.937   Durbin-Watson:                   2.112\n",
       "Prob(Omnibus):                  0.000   Jarque-Bera (JB):               71.569\n",
       "Skew:                           0.688   Prob(JB):                     2.88e-16\n",
       "Kurtosis:                       5.269   Cond. No.                         1.00\n",
       "==============================================================================\n",
       "\n",
       "Warnings:\n",
       "[1] Standard Errors assume that the covariance matrix of the errors is correctly specified.\n",
       "\"\"\""
      ]
     },
     "execution_count": 41,
     "metadata": {},
     "output_type": "execute_result"
    }
   ],
   "source": [
    "from statsmodels.api import OLS\n",
    "OLS(x,y).fit().summary()"
   ]
  },
  {
   "cell_type": "markdown",
   "metadata": {},
   "source": [
    "#### Prediction"
   ]
  },
  {
   "cell_type": "code",
   "execution_count": 43,
   "metadata": {},
   "outputs": [
    {
     "name": "stdout",
     "output_type": "stream",
     "text": [
      "Predicted:\n",
      "[[2.70463616]\n",
      " [2.00622312]\n",
      " [3.12683472]\n",
      " [3.40725019]\n",
      " [3.5028225 ]\n",
      " [3.57633966]\n",
      " [1.84133463]\n",
      " [3.74332864]\n",
      " [2.49983836]\n",
      " [2.47253198]\n",
      " [1.99887141]\n",
      " [4.6234341 ]\n",
      " [2.53974767]\n",
      " [2.85587147]\n",
      " [2.47778321]\n",
      " [3.1866987 ]\n",
      " [2.00517288]\n",
      " [2.631119  ]\n",
      " [2.70253567]\n",
      " [3.0890259 ]\n",
      " [2.80230897]\n",
      " [3.05121707]\n",
      " [2.57650625]\n",
      " [5.06033609]\n",
      " [3.00185555]\n",
      " [2.79075627]\n",
      " [2.32444741]\n",
      " [2.25303074]\n",
      " [3.19930164]\n",
      " [2.98400138]\n",
      " [1.92325375]\n",
      " [2.84746951]\n",
      " [2.50193885]\n",
      " [3.09322688]\n",
      " [2.78760553]\n",
      " [3.4471595 ]\n",
      " [2.63321949]\n",
      " [2.69833469]\n",
      " [2.88317784]\n",
      " [4.20438627]\n",
      " [2.60486287]\n",
      " [2.75399769]\n",
      " [2.38431139]\n",
      " [1.93690694]\n",
      " [4.11301494]\n",
      " [2.84116804]\n",
      " [3.25496464]\n",
      " [4.32306398]\n",
      " [3.91871958]\n",
      " [2.81491191]\n",
      " [2.23727706]\n",
      " [2.0009719 ]\n",
      " [4.57617306]\n",
      " [1.96421332]\n",
      " [3.60469628]\n",
      " [2.96719746]\n",
      " [4.91225152]\n",
      " [3.69396712]\n",
      " [2.10074519]\n",
      " [5.98980307]\n",
      " [3.05121707]\n",
      " [2.3706582 ]\n",
      " [2.0776398 ]\n",
      " [2.84116804]\n",
      " [2.76765087]\n",
      " [3.02916192]\n",
      " [2.64792292]\n",
      " [1.24269488]\n",
      " [3.0449156 ]\n",
      " [2.49668762]\n",
      " [2.18266431]\n",
      " [2.71303813]\n",
      " [3.74122815]\n",
      " [3.57528941]\n",
      " [2.46728075]\n",
      " [2.02407729]\n",
      " [2.80230897]\n",
      " [3.77693649]\n",
      " [3.31062763]\n",
      " [2.73614352]\n",
      " [2.96194623]\n",
      " [2.66997807]\n",
      " [1.9778665 ]\n",
      " [4.35247084]\n",
      " [2.5985614 ]\n",
      " [4.57827355]\n",
      " [2.28873908]\n",
      " [2.84011779]\n",
      " [3.51542544]\n",
      " [3.1425884 ]\n",
      " [3.96282988]\n",
      " [3.28227101]\n",
      " [1.52416059]\n",
      " [2.63426974]\n",
      " [3.30957738]\n",
      " [5.13910448]\n",
      " [3.78533845]\n",
      " [2.18371456]\n",
      " [3.12683472]\n",
      " [2.2288751 ]\n",
      " [2.11229789]\n",
      " [2.53554669]\n",
      " [5.57285573]\n",
      " [3.27491929]\n",
      " [3.11738252]\n",
      " [2.5334462 ]\n",
      " [3.07222197]\n",
      " [3.5679377 ]\n",
      " [2.83591681]\n",
      " [2.42317046]\n",
      " [2.39061286]\n",
      " [1.68169736]\n",
      " [4.91855299]\n",
      " [3.4356068 ]\n",
      " [3.62044996]\n",
      " [2.73824401]\n",
      " [4.06365342]\n",
      " [2.03878072]\n",
      " [2.22572436]\n",
      " [3.44925999]\n",
      " [2.14800622]\n",
      " [2.32969864]\n",
      " [2.41791923]\n",
      " [2.59541067]\n",
      " [2.23097559]\n",
      " [4.05000023]\n",
      " [1.8150785 ]\n",
      " [2.44522561]\n",
      " [2.11544862]\n",
      " [3.3169291 ]\n",
      " [2.92413741]\n",
      " [3.04911658]\n",
      " [2.09339347]\n",
      " [2.2078702 ]\n",
      " [2.8380173 ]\n",
      " [1.81402826]\n",
      " [2.00517288]\n",
      " [2.40636653]\n",
      " [2.60066189]\n",
      " [2.30239226]\n",
      " [2.75504793]\n",
      " [4.52261056]\n",
      " [5.24622948]\n",
      " [3.76118281]\n",
      " [2.64582243]\n",
      " [1.79722433]\n",
      " [2.87792662]\n",
      " [2.16691063]\n",
      " [1.94740939]\n",
      " [1.70900374]\n",
      " [2.39796457]\n",
      " [2.29924153]\n",
      " [2.73299278]\n",
      " [3.49862152]\n",
      " [2.99660432]\n",
      " [4.05525146]\n",
      " [5.97930062]\n",
      " [3.54588255]\n",
      " [2.3265479 ]\n",
      " [2.65212391]\n",
      " [3.17829674]\n",
      " [2.24988   ]\n",
      " [2.62271704]\n",
      " [2.3706582 ]\n",
      " [2.75924891]\n",
      " [3.49547078]\n",
      " [3.10057859]\n",
      " [4.25059706]\n",
      " [2.03247925]\n",
      " [2.03668023]\n",
      " [6.25656534]\n",
      " [2.58070723]\n",
      " [1.68169736]\n",
      " [4.26530049]\n",
      " [2.686782  ]\n",
      " [4.37557624]\n",
      " [2.79915823]\n",
      " [2.44102463]\n",
      " [1.92850498]\n",
      " [4.55726865]\n",
      " [4.55936914]\n",
      " [3.3704916 ]\n",
      " [5.68313148]\n",
      " [3.35368768]\n",
      " [5.17901379]\n",
      " [3.09322688]\n",
      " [3.11528203]\n",
      " [4.11931641]\n",
      " [2.8264646 ]\n",
      " [3.34633597]\n",
      " [2.56810429]\n",
      " [3.0008053 ]\n",
      " [3.90716689]\n",
      " [2.54604914]\n",
      " [2.66157611]\n",
      " [1.71425496]\n",
      " [2.00622312]\n",
      " [5.44787656]\n",
      " [2.28558834]\n",
      " [2.33915084]\n",
      " [2.88527833]\n",
      " [2.25828197]\n",
      " [2.28558834]\n",
      " [2.6426717 ]\n",
      " [3.07642296]\n",
      " [2.65002341]\n",
      " [3.71287153]\n",
      " [4.98786917]\n",
      " [3.46921465]\n",
      " [2.26038246]\n",
      " [4.07730661]\n",
      " [3.63935437]\n",
      " [5.99610454]\n",
      " [2.31394496]\n",
      " [3.87881027]\n",
      " [2.27508589]\n",
      " [3.87670978]\n",
      " [2.13750377]\n",
      " [1.73315938]\n",
      " [4.08570857]\n",
      " [2.19736774]\n",
      " [2.32969864]\n",
      " [1.82137997]\n",
      " [2.5985614 ]\n",
      " [2.32969864]\n",
      " [2.62901851]\n",
      " [1.97996699]\n",
      " [3.06802099]\n",
      " [2.3149952 ]\n",
      " [3.24341194]\n",
      " [3.44190828]\n",
      " [2.56810429]\n",
      " [2.13960426]\n",
      " [2.05138367]\n",
      " [2.55130037]\n",
      " [1.9778665 ]\n",
      " [2.24357853]\n",
      " [4.36822452]\n",
      " [4.68329807]\n",
      " [3.96913135]\n",
      " [3.774836  ]\n",
      " [3.30117542]\n",
      " [2.79180651]\n",
      " [2.89263005]]\n"
     ]
    }
   ],
   "source": [
    "predicion = model.predict(x)\n",
    "print('Predicted:', prediction, sep='\\n')"
   ]
  },
  {
   "cell_type": "code",
   "execution_count": 49,
   "metadata": {},
   "outputs": [
    {
     "data": {
      "text/plain": [
       "<matplotlib.axes._subplots.AxesSubplot at 0x1d0f87165c8>"
      ]
     },
     "execution_count": 49,
     "metadata": {},
     "output_type": "execute_result"
    },
    {
     "data": {
      "image/png": "[encoded data removed]",
      "text/plain": [
       "<Figure size 720x720 with 1 Axes>"
      ]
     },
     "metadata": {
      "needs_background": "light"
     },
     "output_type": "display_data"
    }
   ],
   "source": [
    "plt.subplots(figsize=(10, 10))\n",
    "sns.regplot(x=\"total_bill\", y=\"tip\", data=df)"
   ]
  },
  {
   "cell_type": "markdown",
   "metadata": {},
   "source": [
    "## References\n",
    "\n",
    "Pandas Data Frame\n",
    "\n",
    "https://pandas.pydata.org/pandas-docs/stable/reference/frame.html\n",
    "\n",
    "\n",
    "\"Introducing Data Science\" Davy Cielen, Arno D. B. Meysman, Mohamed Ali - Manning 2016\n",
    "\n",
    "\n",
    "missing values:<br>\n",
    "https://towardsdatascience.com/data-cleaning-with-python-and-pandas-detecting-missing-values-3e9c6ebcf78b\n",
    "\n",
    "Regression Plots:<br>\n",
    "https://seaborn.pydata.org/tutorial/regression.html"
   ]
  },
  {
   "cell_type": "code",
   "execution_count": null,
   "metadata": {},
   "outputs": [],
   "source": []
  }
 ],
 "metadata": {
  "kernelspec": {
   "display_name": "Python 3",
   "language": "python",
   "name": "python3"
  },
  "language_info": {
   "codemirror_mode": {
    "name": "ipython",
    "version": 3
   },
   "file_extension": ".py",
   "mimetype": "text/x-python",
   "name": "python",
   "nbconvert_exporter": "python",
   "pygments_lexer": "ipython3",
   "version": "3.7.5"
  }
 },
 "nbformat": 4,
 "nbformat_minor": 2
}
